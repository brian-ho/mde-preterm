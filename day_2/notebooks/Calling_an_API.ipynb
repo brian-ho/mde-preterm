{
 "cells": [
  {
   "cell_type": "markdown",
   "metadata": {
    "colab_type": "text",
    "id": "view-in-github"
   },
   "source": [
    "<a href=\"https://colab.research.google.com/github/brian-ho/mde-preterm-2024/blob/main/day_2/notebooks/Calling_an_API.ipynb\" target=\"_parent\"><img src=\"https://colab.research.google.com/assets/colab-badge.svg\" alt=\"Open In Colab\"/></a>"
   ]
  },
  {
   "cell_type": "markdown",
   "metadata": {},
   "source": [
    "# XML to CSV\n",
    "\n",
    "```\n",
    "2024 MDE Preterm\n",
    "Brian Ho - brian@brian-ho.io\n",
    "Jenny Fan - me@jennyfan.com\n",
    "```\n",
    "\n",
    "This notebook is a quick demonstration of how you can call an external Application Programming Interface (API) to fetch data from providers and live sources, rather than just downloading existing files.\n",
    "\n",
    "If you'd like to incorporate an API into your coursework, let me know! There are some nuanced to setting them up that we can review together.\n",
    "\n",
    "## About APIs\n",
    "APIs are made available by a variety of public and private sources, either for free or as a paid offering. One example that we'll use in this notebook are APIs from HERE (https://developer.here.com/) a company that provides geospatial information. Other APIs you might explore include:\n",
    "\n",
    "- Google Maps Platform (https://mapsplatform.google.com/)\n",
    "- Mapbox (https://www.mapbox.com/)\n",
    "- Mapillary (https://www.mapillary.com/developer)\n",
    "... and more! The internet is truly your oyster — being able to call APIs enables you to access a number of \"developer\" tools. Of course, that comes with the caveat that things get a little tricker to work with!\n",
    "\n",
    "## Setting up with HERE\n",
    "To set up the HERE API, go to https://developer.here.com/ and create your free account. After you do that, you'll need to:\n",
    "\n",
    "- Create a project in the Project Manger, giving it access to relevant services, e.g. \"HERE Search - One Box Search\".\n",
    "0 Create an app in the Access Manager, giving it access to the project you created.\n",
    "0 You'll use the API key for your app to access data. So long as you stay under 1,000 calls a day, your access wil be free."
   ]
  },
  {
   "cell_type": "code",
   "execution_count": 1,
   "metadata": {
    "colab": {
     "base_uri": "https://localhost:8080/"
    },
    "id": "t9SuuWFM18bn",
    "outputId": "a66aaa16-c22a-47b9-dbd9-b746cd8db915"
   },
   "outputs": [
    {
     "name": "stdout",
     "output_type": "stream",
     "text": [
      "\n",
      "\u001b[1m[\u001b[0m\u001b[34;49mnotice\u001b[0m\u001b[1;39;49m]\u001b[0m\u001b[39;49m A new release of pip is available: \u001b[0m\u001b[31;49m23.0.1\u001b[0m\u001b[39;49m -> \u001b[0m\u001b[32;49m24.2\u001b[0m\n",
      "\u001b[1m[\u001b[0m\u001b[34;49mnotice\u001b[0m\u001b[1;39;49m]\u001b[0m\u001b[39;49m To update, run: \u001b[0m\u001b[32;49mpip install --upgrade pip\u001b[0m\n",
      "Note: you may need to restart the kernel to use updated packages.\n"
     ]
    }
   ],
   "source": [
    "# We'll need a new library to work with the encoded geometry information\n",
    "%pip install flexpolyline --quiet"
   ]
  },
  {
   "cell_type": "code",
   "execution_count": 7,
   "metadata": {
    "id": "9BffdP1qxzMe"
   },
   "outputs": [],
   "source": [
    "# Don't forget to enter your API key here!\n",
    "HERE_API_KEY = \"YOUR_API_KEY_HERE\""
   ]
  },
  {
   "cell_type": "code",
   "execution_count": 41,
   "metadata": {
    "id": "carVCEfAtsrB"
   },
   "outputs": [],
   "source": [
    "# We'll use requests to call the API and time to manage delays\n",
    "import requests\n",
    "import time\n",
    "from flexpolyline import decode"
   ]
  },
  {
   "cell_type": "code",
   "execution_count": 8,
   "metadata": {
    "id": "Y_NqElYIxlrE"
   },
   "outputs": [],
   "source": [
    "def search_for_places(latitude, longitude, query):\n",
    "    \"\"\"A helper function that calls the HERE Discover API.\"\"\"\n",
    "\n",
    "    print(f\"Searching for {query} at {latitude}, {longitude} ...\")\n",
    "\n",
    "    # API often limit rate of access — this slows things down\n",
    "    time.sleep(0.1)\n",
    "\n",
    "    # Use requests to set query parameters per API documentation\n",
    "    params = {\n",
    "        \"at\": f\"{latitude},{longitude}\",\n",
    "        \"apiKey\": HERE_API_KEY,\n",
    "        \"q\": query,\n",
    "    }\n",
    "\n",
    "    # Make the request and return response\n",
    "    return requests.get(\n",
    "        \"https://discover.search.hereapi.com/v1/discover?\", params=params\n",
    "    )"
   ]
  },
  {
   "cell_type": "code",
   "execution_count": 29,
   "metadata": {
    "colab": {
     "base_uri": "https://localhost:8080/"
    },
    "id": "kFOe50PVxtSL",
    "outputId": "963b1138-4a23-42ae-ac2b-e97d49f017da"
   },
   "outputs": [
    {
     "name": "stdout",
     "output_type": "stream",
     "text": [
      "Searching for coffee at 40.70515556422382, -74.01317432574815 ...\n",
      "Found 20 places!\n"
     ]
    }
   ],
   "source": [
    "# Try out the API call for 26 Broadway in Manhattan, NYC\n",
    "places_result = search_for_places(40.70515556422382, -74.01317432574815, \"coffee\")\n",
    "places_result_data = places_result.json()\n",
    "\n",
    "print(f\"Found {len(places_result_data['items'])} places!\")"
   ]
  },
  {
   "cell_type": "code",
   "execution_count": 30,
   "metadata": {
    "colab": {
     "base_uri": "https://localhost:8080/"
    },
    "id": "aKt28UJXxxyI",
    "outputId": "c84c3b3b-c737-4a72-9d70-5e661f27f013"
   },
   "outputs": [
    {
     "data": {
      "text/plain": [
       "{'title': 'STARBUCKS',\n",
       " 'id': 'here:pds:place:840dr5re-7f85a287c88549df816dbee3f48f5ff0',\n",
       " 'language': 'en',\n",
       " 'ontologyId': 'here:cm:ontology:coffee',\n",
       " 'resultType': 'place',\n",
       " 'address': {'label': 'STARBUCKS, 2 Broadway, New York, NY 10004-2207, United States',\n",
       "  'countryCode': 'USA',\n",
       "  'countryName': 'United States',\n",
       "  'stateCode': 'NY',\n",
       "  'state': 'New York',\n",
       "  'county': 'New York',\n",
       "  'city': 'New York',\n",
       "  'district': 'Financial District',\n",
       "  'street': 'Broadway',\n",
       "  'postalCode': '10004-2207',\n",
       "  'houseNumber': '2'},\n",
       " 'position': {'lat': 40.70457, 'lng': -74.01313},\n",
       " 'access': [{'lat': 40.70455, 'lng': -74.01327}],\n",
       " 'distance': 66,\n",
       " 'categories': [{'id': '100-1100-0010',\n",
       "   'name': 'Coffee Shop',\n",
       "   'primary': True}],\n",
       " 'chains': [{'id': '1396', 'name': 'STARBUCKS'}],\n",
       " 'references': [{'supplier': {'id': 'core'}, 'id': '41516220'},\n",
       "  {'supplier': {'id': 'tripadvisor'}, 'id': '4477956'},\n",
       "  {'supplier': {'id': 'yelp'}, 'id': 'rPXlTqHLYKcXyADOeqzwbg'}],\n",
       " 'contacts': [{'phone': [{'value': '+12123444290'}]}],\n",
       " 'openingHours': [{'text': ['Mon-Fri: 05:30 - 19:30',\n",
       "    'Sat, Sun: 06:30 - 19:00'],\n",
       "   'isOpen': False,\n",
       "   'structured': [{'start': 'T053000',\n",
       "     'duration': 'PT14H00M',\n",
       "     'recurrence': 'FREQ:DAILY;BYDAY:MO,TU,WE,TH,FR'},\n",
       "    {'start': 'T063000',\n",
       "     'duration': 'PT12H30M',\n",
       "     'recurrence': 'FREQ:DAILY;BYDAY:SA,SU'}]}],\n",
       " 'payment': {'methods': [{'id': 'amex', 'accepted': True},\n",
       "   {'id': 'discover', 'accepted': True},\n",
       "   {'id': 'mastercard', 'accepted': True},\n",
       "   {'id': 'visa', 'accepted': True}]}}"
      ]
     },
     "execution_count": 30,
     "metadata": {},
     "output_type": "execute_result"
    }
   ],
   "source": [
    "places_result_data[\"items\"][0]"
   ]
  },
  {
   "cell_type": "code",
   "execution_count": 36,
   "metadata": {
    "id": "aP0FuWanyOLo"
   },
   "outputs": [],
   "source": [
    "def search_for_route(\n",
    "    origin_latitude, origin_longitude, destination_latitude, destination_longitude\n",
    "):\n",
    "    \"\"\"A helper function that calls the HERE Discover API.\"\"\"\n",
    "\n",
    "    print(\n",
    "        f\"Searching for route between {origin_latitude}, {origin_longitude} and {destination_latitude}, {destination_longitude} ...\"\n",
    "    )\n",
    "\n",
    "    # API often limit rate of access — this slows things down\n",
    "    time.sleep(0.1)\n",
    "\n",
    "    # Use requests to set query parameters per API documentation\n",
    "    params = {\n",
    "        \"transportMode\": \"car\",\n",
    "        \"origin\": f\"{origin_latitude},{origin_longitude}\",\n",
    "        \"destination\": f\"{destination_latitude},{destination_longitude}\",\n",
    "        \"return\": \"polyline\",\n",
    "        \"apiKey\": HERE_API_KEY,\n",
    "    }\n",
    "\n",
    "    # Make the request and return response\n",
    "    return requests.get(\"https://router.hereapi.com/v8/routes?\", params=params)"
   ]
  },
  {
   "cell_type": "code",
   "execution_count": 37,
   "metadata": {
    "colab": {
     "base_uri": "https://localhost:8080/"
    },
    "id": "i1Z3N_57z_un",
    "outputId": "6d542bbb-51a7-41e9-c9fd-85272c759139"
   },
   "outputs": [
    {
     "name": "stdout",
     "output_type": "stream",
     "text": [
      "Searching for route between 42.363255, -71.126319 and 42.36046146521424, -71.05795471680749 ...\n"
     ]
    }
   ],
   "source": [
    "routes_results = search_for_route(\n",
    "    42.363255, -71.126319, 42.36046146521424, -71.05795471680749\n",
    ")\n",
    "routes_results_data = routes_results.json()"
   ]
  },
  {
   "cell_type": "code",
   "execution_count": 47,
   "metadata": {
    "id": "A5PKQcOp0QWV"
   },
   "outputs": [],
   "source": [
    "polyline = routes_results_data[\"routes\"][0][\"sections\"][0][\"polyline\"]"
   ]
  },
  {
   "cell_type": "code",
   "execution_count": 48,
   "metadata": {
    "colab": {
     "base_uri": "https://localhost:8080/"
    },
    "id": "2DoVDGhS2Bv5",
    "outputId": "3df111bc-644f-4f1b-ec71-e55e985c960b"
   },
   "outputs": [
    {
     "data": {
      "text/plain": [
       "[(42.36352, -71.12632),\n",
       " (42.36353, -71.1262),\n",
       " (42.36353, -71.12616),\n",
       " (42.36351, -71.12596),\n",
       " (42.36353, -71.12566),\n",
       " (42.36354, -71.12553),\n",
       " (42.36354, -71.12546),\n",
       " (42.3636, -71.12475),\n",
       " (42.36361, -71.12464),\n",
       " (42.36364, -71.12442),\n",
       " (42.36366, -71.12424),\n",
       " (42.36368, -71.12405),\n",
       " (42.36369, -71.12396),\n",
       " (42.3637, -71.12387),\n",
       " (42.3637, -71.12379),\n",
       " (42.36372, -71.12353),\n",
       " (42.36374, -71.12332),\n",
       " (42.36375, -71.12311),\n",
       " (42.36376, -71.123),\n",
       " (42.36378, -71.12278),\n",
       " (42.36381, -71.12244),\n",
       " (42.36383, -71.12226),\n",
       " (42.36385, -71.12203),\n",
       " (42.36388, -71.12163),\n",
       " (42.36389, -71.12145),\n",
       " (42.36391, -71.12128),\n",
       " (42.364, -71.12013),\n",
       " (42.36402, -71.11985),\n",
       " (42.3641, -71.11897),\n",
       " (42.36409, -71.11887),\n",
       " (42.36408, -71.1188),\n",
       " (42.36407, -71.1187),\n",
       " (42.36406, -71.11862),\n",
       " (42.36405, -71.11856),\n",
       " (42.36403, -71.11848),\n",
       " (42.36401, -71.11843),\n",
       " (42.36398, -71.11838),\n",
       " (42.36394, -71.11834),\n",
       " (42.36389, -71.11831),\n",
       " (42.36384, -71.11829),\n",
       " (42.36377, -71.11827),\n",
       " (42.36368, -71.11825),\n",
       " (42.36359, -71.11823),\n",
       " (42.36348, -71.1182),\n",
       " (42.36326, -71.11813),\n",
       " (42.36263, -71.11804),\n",
       " (42.36196, -71.11794),\n",
       " (42.36157, -71.11787),\n",
       " (42.36142, -71.11785),\n",
       " (42.36118, -71.11781),\n",
       " (42.36097, -71.11778),\n",
       " (42.36093, -71.11777),\n",
       " (42.36089, -71.11776),\n",
       " (42.36047, -71.11768),\n",
       " (42.36024, -71.11764),\n",
       " (42.3601, -71.11762),\n",
       " (42.35993, -71.1176),\n",
       " (42.35976, -71.1176),\n",
       " (42.35964, -71.11761),\n",
       " (42.35952, -71.11762),\n",
       " (42.35928, -71.11767),\n",
       " (42.35873, -71.11776),\n",
       " (42.35856, -71.11781),\n",
       " (42.35828, -71.1179),\n",
       " (42.35807, -71.11797),\n",
       " (42.35761, -71.11812),\n",
       " (42.35736, -71.11821),\n",
       " (42.35716, -71.11827),\n",
       " (42.35701, -71.11831),\n",
       " (42.35689, -71.11834),\n",
       " (42.35674, -71.11837),\n",
       " (42.35655, -71.11839),\n",
       " (42.35639, -71.1184),\n",
       " (42.3562, -71.11839),\n",
       " (42.35605, -71.11838),\n",
       " (42.35593, -71.11837),\n",
       " (42.35563, -71.11831),\n",
       " (42.35553, -71.11828),\n",
       " (42.35538, -71.11823),\n",
       " (42.35496, -71.11804),\n",
       " (42.35479, -71.11793),\n",
       " (42.35469, -71.11786),\n",
       " (42.3546, -71.11778),\n",
       " (42.35425, -71.11742),\n",
       " (42.35404, -71.11712),\n",
       " (42.35395, -71.11697),\n",
       " (42.35372, -71.11656),\n",
       " (42.35337, -71.11591),\n",
       " (42.35283, -71.11492),\n",
       " (42.3527, -71.1147),\n",
       " (42.35257, -71.11447),\n",
       " (42.35236, -71.11403),\n",
       " (42.35229, -71.11384),\n",
       " (42.35213, -71.11336),\n",
       " (42.35208, -71.11313),\n",
       " (42.35202, -71.11285),\n",
       " (42.35199, -71.1126),\n",
       " (42.35195, -71.11226),\n",
       " (42.3519, -71.1116),\n",
       " (42.35189, -71.11147),\n",
       " (42.35188, -71.11133),\n",
       " (42.35187, -71.11122),\n",
       " (42.35185, -71.11084),\n",
       " (42.35184, -71.1107),\n",
       " (42.35183, -71.11057),\n",
       " (42.35181, -71.11044),\n",
       " (42.35178, -71.11019),\n",
       " (42.35149, -71.10745),\n",
       " (42.35138, -71.10652),\n",
       " (42.35124, -71.10527),\n",
       " (42.35115, -71.10408),\n",
       " (42.35101, -71.10191),\n",
       " (42.35094, -71.10085),\n",
       " (42.35092, -71.10065),\n",
       " (42.3509, -71.10041),\n",
       " (42.35086, -71.09981),\n",
       " (42.3508, -71.09889),\n",
       " (42.35072, -71.09773),\n",
       " (42.35069, -71.09731),\n",
       " (42.35059, -71.09601),\n",
       " (42.35053, -71.09516),\n",
       " (42.35062, -71.09461),\n",
       " (42.35071, -71.09416),\n",
       " (42.35075, -71.09401),\n",
       " (42.35099, -71.09317),\n",
       " (42.35101, -71.09305),\n",
       " (42.35108, -71.09262),\n",
       " (42.35112, -71.09229),\n",
       " (42.35114, -71.09211),\n",
       " (42.35124, -71.09132),\n",
       " (42.35129, -71.09092),\n",
       " (42.35138, -71.09058),\n",
       " (42.35152, -71.09006),\n",
       " (42.35158, -71.08986),\n",
       " (42.35163, -71.08963),\n",
       " (42.35175, -71.08914),\n",
       " (42.35188, -71.0884),\n",
       " (42.35199, -71.08782),\n",
       " (42.35224, -71.08692),\n",
       " (42.35238, -71.08641),\n",
       " (42.35275, -71.08509),\n",
       " (42.35285, -71.08471),\n",
       " (42.35289, -71.08457),\n",
       " (42.35291, -71.08447),\n",
       " (42.35293, -71.0844),\n",
       " (42.35296, -71.08428),\n",
       " (42.35302, -71.08401),\n",
       " (42.35338, -71.0827),\n",
       " (42.35368, -71.08156),\n",
       " (42.3542, -71.07962),\n",
       " (42.35424, -71.07952),\n",
       " (42.35433, -71.07928),\n",
       " (42.35444, -71.079),\n",
       " (42.3545, -71.07883),\n",
       " (42.35453, -71.07873),\n",
       " (42.35456, -71.0786),\n",
       " (42.35471, -71.078),\n",
       " (42.35482, -71.07758),\n",
       " (42.35516, -71.07632),\n",
       " (42.35532, -71.07596),\n",
       " (42.35539, -71.07572),\n",
       " (42.35555, -71.07514),\n",
       " (42.35569, -71.07462),\n",
       " (42.3559, -71.07385),\n",
       " (42.35596, -71.07368),\n",
       " (42.35605, -71.07353),\n",
       " (42.35611, -71.07346),\n",
       " (42.35615, -71.07342),\n",
       " (42.35632, -71.07324),\n",
       " (42.35657, -71.07307),\n",
       " (42.35696, -71.07285),\n",
       " (42.35709, -71.0728),\n",
       " (42.35723, -71.07275),\n",
       " (42.35726, -71.07274),\n",
       " (42.35734, -71.0727),\n",
       " (42.35765, -71.07258),\n",
       " (42.35839, -71.07238),\n",
       " (42.35878, -71.07228),\n",
       " (42.35888, -71.07225),\n",
       " (42.35944, -71.07208),\n",
       " (42.35959, -71.07207),\n",
       " (42.35964, -71.07206),\n",
       " (42.35993, -71.07201),\n",
       " (42.36002, -71.07198),\n",
       " (42.36026, -71.07194),\n",
       " (42.36039, -71.07191),\n",
       " (42.36047, -71.07188),\n",
       " (42.36056, -71.07186),\n",
       " (42.36064, -71.0718),\n",
       " (42.36076, -71.07166),\n",
       " (42.3608, -71.07157),\n",
       " (42.36082, -71.07146),\n",
       " (42.36083, -71.07134),\n",
       " (42.36083, -71.07129),\n",
       " (42.36082, -71.07113),\n",
       " (42.36079, -71.07089),\n",
       " (42.36079, -71.07076),\n",
       " (42.3608, -71.07061),\n",
       " (42.36083, -71.07047),\n",
       " (42.36087, -71.07036),\n",
       " (42.36092, -71.0703),\n",
       " (42.361, -71.07014),\n",
       " (42.36105, -71.07003),\n",
       " (42.36107, -71.06996),\n",
       " (42.36108, -71.06983),\n",
       " (42.36107, -71.06944),\n",
       " (42.36108, -71.06911),\n",
       " (42.36109, -71.06871),\n",
       " (42.36111, -71.06828),\n",
       " (42.36111, -71.06815),\n",
       " (42.36113, -71.06784),\n",
       " (42.36114, -71.06753),\n",
       " (42.36115, -71.06714),\n",
       " (42.36115, -71.06695),\n",
       " (42.36115, -71.06689),\n",
       " (42.36115, -71.06685),\n",
       " (42.36115, -71.06636),\n",
       " (42.36115, -71.066),\n",
       " (42.36115, -71.06596),\n",
       " (42.36115, -71.06549),\n",
       " (42.36115, -71.06513),\n",
       " (42.36116, -71.06473),\n",
       " (42.36116, -71.06466),\n",
       " (42.36116, -71.06456),\n",
       " (42.36116, -71.06439),\n",
       " (42.36117, -71.06414),\n",
       " (42.36118, -71.06374),\n",
       " (42.36118, -71.0634),\n",
       " (42.36118, -71.06335),\n",
       " (42.36119, -71.06286),\n",
       " (42.36117, -71.06254),\n",
       " (42.36115, -71.06232),\n",
       " (42.36113, -71.06222),\n",
       " (42.36109, -71.06205),\n",
       " (42.361, -71.06173),\n",
       " (42.36085, -71.06133),\n",
       " (42.36098, -71.06121),\n",
       " (42.36108, -71.06111),\n",
       " (42.36115, -71.06103),\n",
       " (42.36121, -71.06095),\n",
       " (42.36125, -71.06089),\n",
       " (42.36133, -71.06076),\n",
       " (42.36142, -71.06059),\n",
       " (42.36149, -71.06043),\n",
       " (42.36175, -71.05991),\n",
       " (42.36187, -71.05967),\n",
       " (42.362, -71.0594),\n",
       " (42.36206, -71.05923),\n",
       " (42.36239, -71.05851),\n",
       " (42.36234, -71.05844),\n",
       " (42.3623, -71.05839),\n",
       " (42.36225, -71.05834),\n",
       " (42.36192, -71.05803),\n",
       " (42.36174, -71.05789),\n",
       " (42.36163, -71.05781),\n",
       " (42.36153, -71.05774),\n",
       " (42.36147, -71.05771),\n",
       " (42.36136, -71.05765),\n",
       " (42.36126, -71.0576),\n",
       " (42.36115, -71.05755),\n",
       " (42.36102, -71.0575),\n",
       " (42.36096, -71.05748),\n",
       " (42.36076, -71.05742),\n",
       " (42.36068, -71.0574),\n",
       " (42.36057, -71.05737)]"
      ]
     },
     "execution_count": 48,
     "metadata": {},
     "output_type": "execute_result"
    }
   ],
   "source": [
    "decode(polyline)"
   ]
  },
  {
   "cell_type": "code",
   "execution_count": null,
   "metadata": {
    "id": "wRWF_Rog2WxI"
   },
   "outputs": [],
   "source": []
  }
 ],
 "metadata": {
  "colab": {
   "authorship_tag": "ABX9TyONuwVSD1/o0ptJu7+2UDw6",
   "include_colab_link": true,
   "provenance": []
  },
  "kernelspec": {
   "display_name": "Python 3",
   "name": "python3"
  },
  "language_info": {
   "codemirror_mode": {
    "name": "ipython",
    "version": 3
   },
   "file_extension": ".py",
   "mimetype": "text/x-python",
   "name": "python",
   "nbconvert_exporter": "python",
   "pygments_lexer": "ipython3",
   "version": "3.10.13"
  }
 },
 "nbformat": 4,
 "nbformat_minor": 0
}
