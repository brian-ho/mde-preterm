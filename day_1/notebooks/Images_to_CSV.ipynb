{
 "cells": [
  {
   "cell_type": "markdown",
   "metadata": {
    "colab_type": "text",
    "id": "view-in-github"
   },
   "source": [
    "<a href=\"https://colab.research.google.com/github/brian-ho/mde-preterm-2024/blob/main/day_1/notebooks/Images_to_CSV.ipynb\" target=\"_parent\"><img src=\"https://colab.research.google.com/assets/colab-badge.svg\" alt=\"Open In Colab\"/></a>\n"
   ]
  },
  {
   "cell_type": "markdown",
   "metadata": {},
   "source": [
    "# Images to CSV: extracting GPS and color information from photos\n",
    "\n",
    "```\n",
    "2024 MDE Preterm\n",
    "Brian Ho - brian@brian-ho.io\n",
    "Jenny Fan - me@jennyfan.com\n",
    "```\n",
    "\n",
    "A short notebook you can use to get [EXIF metadata](https://en.wikipedia.org/wiki/Exif) and color frequency from photos.\n",
    "\n",
    "- When run in Colab, inputs can be images saved in your Google Drive account\n",
    "- When run locally, inputs are images your local environment\n",
    "- Saves a CSV file with the information\n",
    "\n",
    "For each image, write the following to a column in the CSV file:\n",
    "\n",
    "- GPS location information: `latitude`, `longitude`, and `altitude`\n",
    "- The `date` the image was taken\n",
    "- The top 10 most common `color`s in each image, as hex values\n",
    "- The `colors_count` is a corresponding array with the number of pixels for each color\n",
    "- The `red`, `green`, `blue` values for each color as corresponding arrays\n",
    "- The `image_width` in pixels\n",
    "- The `image_height` in pixels\n"
   ]
  },
  {
   "cell_type": "code",
   "execution_count": 36,
   "metadata": {
    "id": "xGXduqSbUOD0"
   },
   "outputs": [],
   "source": [
    "# Let's import our dependencies.\n",
    "import os\n",
    "from PIL import Image\n",
    "from PIL.ExifTags import TAGS, GPSTAGS, IFD\n",
    "import pandas as pd\n",
    "from pathlib import Path\n",
    "from datetime import datetime"
   ]
  },
  {
   "cell_type": "code",
   "execution_count": 35,
   "metadata": {},
   "outputs": [],
   "source": [
    "# This gives us a set of image file extensions so we can identify the right files\n",
    "IMAGE_FILE_EXTENSIONS = {\n",
    "    ex.lower() for ex, f in Image.registered_extensions().items() if f in Image.OPEN\n",
    "}\n",
    "IMAGE_FILE_EXTENSIONS.add(\".HEIC\".lower())"
   ]
  },
  {
   "cell_type": "code",
   "execution_count": null,
   "metadata": {
    "colab": {
     "base_uri": "https://localhost:8080/"
    },
    "id": "qRZfGDcfUnJe",
    "outputId": "86096bfb-b872-4e6b-9576-c6e033c73bc5"
   },
   "outputs": [],
   "source": [
    "# When running on Colab, we can connect to a Google Drive folder\n",
    "from google.colab import drive\n",
    "\n",
    "drive.mount(\"/content/drive\")"
   ]
  },
  {
   "cell_type": "code",
   "execution_count": 29,
   "metadata": {
    "id": "Jj2RI1LjUXcR"
   },
   "outputs": [],
   "source": [
    "# Update the text in quotes with the path to your image data on Google Drive\n",
    "# This will probably be something like: \"/content/drive/MyDrive/path/to/folder\"\n",
    "# Don't forget to run this cell!\n",
    "directory = \"example_data\""
   ]
  },
  {
   "cell_type": "code",
   "execution_count": 30,
   "metadata": {
    "id": "ZhEt5WY2U-2t"
   },
   "outputs": [],
   "source": [
    "GPS_LAT_REF = \"GPSLatitudeRef\"\n",
    "GPS_LAT = \"GPSLatitude\"\n",
    "GPS_LNG_REF = \"GPSLongitudeRef\"\n",
    "GPS_LNG = \"GPSLongitude\"\n",
    "GPS_ALT_REF = \"GPSAltitudeRef\"\n",
    "GPS_ALT = \"GPSAltitude\"\n",
    "DATE_TIME = \"DateTime\"\n",
    "\n",
    "\n",
    "def get_exif_info(img):\n",
    "    \"\"\"Extracts desired EXIF information from an image.\"\"\"\n",
    "\n",
    "    # Get the EXIF metadata\n",
    "    img_exif = img.getexif()\n",
    "\n",
    "    try:\n",
    "        gps_ifd = img_exif.get_ifd(IFD.GPSInfo)\n",
    "        gps_info = {GPSTAGS.get(tag, tag): value for tag, value in gps_ifd.items()}\n",
    "        other_info = {TAGS.get(tag, tag): value for tag, value in img_exif.items()}\n",
    "\n",
    "        exif_info = {**gps_info, **other_info}\n",
    "\n",
    "        for attr in (\n",
    "            GPS_LAT_REF,\n",
    "            GPS_LAT,\n",
    "            GPS_LNG_REF,\n",
    "            GPS_LNG,\n",
    "            GPS_ALT_REF,\n",
    "            GPS_ALT,\n",
    "            DATE_TIME,\n",
    "        ):\n",
    "            exif_info.setdefault(attr, None)\n",
    "\n",
    "        return exif_info\n",
    "\n",
    "    except KeyError:\n",
    "        return None\n",
    "\n",
    "\n",
    "def parse_degrees_to_decimals(degrees, reference):\n",
    "    \"\"\"Transforms angular degrees into decimal degrees.\"\"\"\n",
    "\n",
    "    if not degrees or not reference:\n",
    "        return None\n",
    "\n",
    "    if isinstance(reference, bytes):\n",
    "        ref_from_bytes = int.from_bytes(reference, byteorder=\"big\")\n",
    "        sign = -1.0 if ref_from_bytes == 1 else 1.0\n",
    "        return degrees * sign\n",
    "    else:\n",
    "        sign = -1.0 if reference in (\"S\", \"W\") else 1.0\n",
    "        decimals = degrees[0] + degrees[1] / 60 + (degrees[2] / (60.0 * 60.0))\n",
    "        return decimals * sign\n",
    "\n",
    "\n",
    "def parse_date(exif_date):\n",
    "    \"\"\"Parses GPS data string to a date object.\"\"\"\n",
    "\n",
    "    if not exif_date:\n",
    "        return None\n",
    "\n",
    "    return datetime.strptime(exif_date, \"%Y:%m:%d %H:%M:%S\")\n",
    "\n",
    "\n",
    "def parse_exif_info(exif_info):\n",
    "    \"\"\"Gets decimal latitude, longitude, and altitude from GPS metadata.\"\"\"\n",
    "\n",
    "    if not exif_info:\n",
    "        return {\"latitude\": None, \"longitude\": None, \"altitude\": None, \"date\": None}\n",
    "\n",
    "    else:\n",
    "        return {\n",
    "            \"latitude\": parse_degrees_to_decimals(\n",
    "                exif_info[GPS_LAT], exif_info[GPS_LAT_REF]\n",
    "            ),\n",
    "            \"longitude\": parse_degrees_to_decimals(\n",
    "                exif_info[GPS_LNG], exif_info[GPS_LNG_REF]\n",
    "            ),\n",
    "            \"altitude\": parse_degrees_to_decimals(\n",
    "                exif_info[GPS_ALT], exif_info[GPS_ALT_REF]\n",
    "            ),\n",
    "            \"date\": parse_date(exif_info[DATE_TIME]),\n",
    "        }\n",
    "\n",
    "\n",
    "def palette_color_to_rgb(palette, color):\n",
    "    \"\"\"Converts an index to an RGB color value from the palette.\"\"\"\n",
    "    return palette[color * 3 : color * 3 + 3]\n",
    "\n",
    "\n",
    "def rgb_to_hex(r, g, b):\n",
    "    \"\"\"Converts red, green, and blue values to hex code\"\"\"\n",
    "    return f\"#%02x%02x%02x\" % (r, g, b)\n",
    "\n",
    "\n",
    "def get_color_data(img):\n",
    "    \"\"\"Gets the 10 most common colors in an image.\"\"\"\n",
    "    converted_img = img.convert(\"P\")\n",
    "    palette = converted_img.getpalette()\n",
    "    converted_img.thumbnail((100, 100))\n",
    "\n",
    "    color_counts = converted_img.getcolors()\n",
    "    color_counts.sort(key=lambda x: x[0], reverse=True)\n",
    "\n",
    "    color_data = {\n",
    "        \"color_count\": [],\n",
    "        \"red\": [],\n",
    "        \"green\": [],\n",
    "        \"blue\": [],\n",
    "    }\n",
    "\n",
    "    for i, (k, v) in enumerate(color_counts[:5]):\n",
    "        r, g, b = palette_color_to_rgb(palette, v)\n",
    "        color_data[\"color_count\"].append(k)\n",
    "        color_data[\"red\"].append(r)\n",
    "        color_data[\"green\"].append(g)\n",
    "        color_data[\"blue\"].append(b)\n",
    "        color_data[f\"color_{i}\"] = rgb_to_hex(r, g, b)\n",
    "\n",
    "    # TODO (brian) remove this\n",
    "    for i, (k, v) in enumerate(color_counts[-6:]):\n",
    "        j = i + 4\n",
    "        r, g, b = palette_color_to_rgb(palette, v)\n",
    "        color_data[\"color_count\"].append(k)\n",
    "        color_data[\"red\"].append(r)\n",
    "        color_data[\"green\"].append(g)\n",
    "        color_data[\"blue\"].append(b)\n",
    "        color_data[f\"color_{j}\"] = rgb_to_hex(r, g, b)\n",
    "\n",
    "    return color_data\n",
    "\n",
    "\n",
    "def get_image_data(img_file):\n",
    "    \"\"\"Gets decimal latitude, longitude, and altitude from an image file.\"\"\"\n",
    "\n",
    "    # Create a PIL Image object\n",
    "    img = Image.open(img_file)\n",
    "\n",
    "    gps_info = get_exif_info(img)\n",
    "    color_data = get_color_data(img)\n",
    "    return {\n",
    "        \"image_name\": img_file.name,\n",
    "        \"image_width\": img.width,\n",
    "        \"image_height\": img.height,\n",
    "        **parse_exif_info(gps_info),\n",
    "        **color_data,\n",
    "    }"
   ]
  },
  {
   "cell_type": "code",
   "execution_count": 31,
   "metadata": {
    "id": "DcAuYFvAVMV2"
   },
   "outputs": [],
   "source": [
    "images_data = []\n",
    "\n",
    "for filepath in sorted(os.listdir(directory)):\n",
    "    # This filters out any unsupported non-image files\n",
    "    if any(filepath.lower().endswith(ext) for ext in IMAGE_FILE_EXTENSIONS):\n",
    "        gps_data = get_image_data(Path(directory) / filepath)\n",
    "        images_data.append(gps_data)"
   ]
  },
  {
   "cell_type": "code",
   "execution_count": 34,
   "metadata": {
    "id": "wDany5FoVOVK"
   },
   "outputs": [],
   "source": [
    "# We are construction a DataFrame from a list of dictionaries\n",
    "# This is just one of many different ways to create a DataFrame\n",
    "df = pd.DataFrame(images_data).sort_values(\"image_name\")\n",
    "\n",
    "# This removes data with empty values! Use with caution.\n",
    "df = df.dropna(axis=0)\n",
    "\n",
    "# Save to a file. Feel free to update the path as needed\n",
    "df.to_csv(\"../p5/end_to_end_demo/data/data.csv\", index=False)"
   ]
  }
 ],
 "metadata": {
  "colab": {
   "authorship_tag": "ABX9TyNgo4Tir46mLUSHnwWXBkVs",
   "include_colab_link": true,
   "provenance": []
  },
  "kernelspec": {
   "display_name": "Python 3",
   "name": "python3"
  },
  "language_info": {
   "codemirror_mode": {
    "name": "ipython",
    "version": 3
   },
   "file_extension": ".py",
   "mimetype": "text/x-python",
   "name": "python",
   "nbconvert_exporter": "python",
   "pygments_lexer": "ipython3",
   "version": "3.10.13"
  }
 },
 "nbformat": 4,
 "nbformat_minor": 0
}
