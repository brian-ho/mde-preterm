{
 "cells": [
  {
   "cell_type": "markdown",
   "metadata": {
    "colab_type": "text",
    "id": "view-in-github"
   },
   "source": [
    "<a href=\"https://colab.research.google.com/github/brian-ho/mde-preterm-2024/blob/main/day_1/notebooks/Basic_web_scraping.ipynb\" target=\"_parent\"><img src=\"https://colab.research.google.com/assets/colab-badge.svg\" alt=\"Open In Colab\"/></a>"
   ]
  },
  {
   "cell_type": "markdown",
   "metadata": {},
   "source": [
    "# Web scraping: getting data from HTML \n",
    "\n",
    "```\n",
    "2024 MDE Preterm\n",
    "Brian Ho - brian@brian-ho.io\n",
    "Jenny Fan - me@jennyfan.com\n",
    "```\n",
    "\n",
    "A short notebook you can use to get data from HTML using Requests and Beautiful Soup.\n"
   ]
  },
  {
   "cell_type": "code",
   "execution_count": 3,
   "metadata": {
    "id": "FVybkvbjLAuw"
   },
   "outputs": [],
   "source": [
    "import requests\n",
    "from bs4 import BeautifulSoup\n",
    "import pandas as pd"
   ]
  },
  {
   "cell_type": "code",
   "execution_count": 4,
   "metadata": {
    "id": "IDzJbwGgL5Nv"
   },
   "outputs": [],
   "source": [
    "# Let's see if we can get information about courses!\n",
    "url = \"https://www.gsd.harvard.edu/courses/\"\n",
    "headers = {\n",
    "    \"User-Agent\": \"Mozilla/5.0 (Macintosh; Intel Mac OS X 10_15_7) AppleWebKit/537.36 (KHTML, like Gecko) Chrome/127.0.0.0 Safari/537.36\"\n",
    "}\n",
    "page = requests.get(url, headers=headers).text"
   ]
  },
  {
   "cell_type": "code",
   "execution_count": 5,
   "metadata": {
    "id": "tGULDryWLbyh"
   },
   "outputs": [],
   "source": [
    "# Here's the HTML content\n",
    "soup = BeautifulSoup(page, \"html.parser\")"
   ]
  },
  {
   "cell_type": "code",
   "execution_count": 8,
   "metadata": {
    "id": "o_RdqsonlpwH"
   },
   "outputs": [],
   "source": [
    "courses = []\n",
    "for course_html in soup.find_all(\n",
    "    \"div\", attrs={\"class\": \"feed-list-boxed__item-header\"}\n",
    "):\n",
    "    course_header = course_html.find(\n",
    "        \"a\", attrs={\"class\": \"feed-list-boxed__item-heading--link\"}\n",
    "    )\n",
    "    courses.append(\n",
    "        {\n",
    "            \"course_name\": course_header.text,\n",
    "            \"link\": course_header.get(\"href\"),\n",
    "            \"faculty\": [\n",
    "                s.text\n",
    "                for s in course_html.find_all(\n",
    "                    \"a\", attrs={\"class\": \"feed-list-boxed__item-subheading--link\"}\n",
    "                )\n",
    "            ],\n",
    "        }\n",
    "    )"
   ]
  },
  {
   "cell_type": "code",
   "execution_count": 10,
   "metadata": {
    "colab": {
     "base_uri": "https://localhost:8080/",
     "height": 424
    },
    "id": "__X9iUhc-Byf",
    "outputId": "e3730f18-da5b-432b-a1f6-1aff2c1495d2"
   },
   "outputs": [
    {
     "data": {
      "text/html": [
       "<div>\n",
       "<style scoped>\n",
       "    .dataframe tbody tr th:only-of-type {\n",
       "        vertical-align: middle;\n",
       "    }\n",
       "\n",
       "    .dataframe tbody tr th {\n",
       "        vertical-align: top;\n",
       "    }\n",
       "\n",
       "    .dataframe thead th {\n",
       "        text-align: right;\n",
       "    }\n",
       "</style>\n",
       "<table border=\"1\" class=\"dataframe\">\n",
       "  <thead>\n",
       "    <tr style=\"text-align: right;\">\n",
       "      <th></th>\n",
       "      <th>course_name</th>\n",
       "      <th>link</th>\n",
       "      <th>faculty</th>\n",
       "    </tr>\n",
       "  </thead>\n",
       "  <tbody>\n",
       "    <tr>\n",
       "      <th>0</th>\n",
       "      <td>First Semester Architecture Core: PROJECT</td>\n",
       "      <td>https://www.gsd.harvard.edu/course/first-semes...</td>\n",
       "      <td>[Sean Canty, Carl D’Apolito-Dworkin, Evan Farl...</td>\n",
       "    </tr>\n",
       "    <tr>\n",
       "      <th>1</th>\n",
       "      <td>Landscape Architecture I: First Semester Core ...</td>\n",
       "      <td>https://www.gsd.harvard.edu/course/landscape-a...</td>\n",
       "      <td>[Gary R.  Hilderbrand, Pablo Pérez-Ramos, Kira...</td>\n",
       "    </tr>\n",
       "    <tr>\n",
       "      <th>2</th>\n",
       "      <td>First Semester Core Urban Planning Studio</td>\n",
       "      <td>https://www.gsd.harvard.edu/course/first-semes...</td>\n",
       "      <td>[Magda Maaoui, Anne-Marie Lubenau, Claire V. R...</td>\n",
       "    </tr>\n",
       "    <tr>\n",
       "      <th>3</th>\n",
       "      <td>Third Semester Architecture Core: INTEGRATE</td>\n",
       "      <td>https://www.gsd.harvard.edu/course/third-semes...</td>\n",
       "      <td>[Eric Höweler, Michelle Chang, Adam Frampton, ...</td>\n",
       "    </tr>\n",
       "    <tr>\n",
       "      <th>4</th>\n",
       "      <td>Landscape Architecture III: Third Semester Cor...</td>\n",
       "      <td>https://www.gsd.harvard.edu/course/landscape-a...</td>\n",
       "      <td>[Danielle Choi, Adam Anderson, Karen Lee Bar-S...</td>\n",
       "    </tr>\n",
       "    <tr>\n",
       "      <th>...</th>\n",
       "      <td>...</td>\n",
       "      <td>...</td>\n",
       "      <td>...</td>\n",
       "    </tr>\n",
       "    <tr>\n",
       "      <th>131</th>\n",
       "      <td>Proseminar in PUBLICS: Of the Public. In the P...</td>\n",
       "      <td>https://www.gsd.harvard.edu/course/proseminar-...</td>\n",
       "      <td>[Diane Davis]</td>\n",
       "    </tr>\n",
       "    <tr>\n",
       "      <th>132</th>\n",
       "      <td>Proseminar in MEDIUMS: On Making Culture, Tech...</td>\n",
       "      <td>https://www.gsd.harvard.edu/course/proseminar-...</td>\n",
       "      <td>[Allen Sayegh]</td>\n",
       "    </tr>\n",
       "    <tr>\n",
       "      <th>133</th>\n",
       "      <td>Proseminar in NARRATIVES: Word and Image as Na...</td>\n",
       "      <td>https://www.gsd.harvard.edu/course/proseminar-...</td>\n",
       "      <td>[Edward Eigen]</td>\n",
       "    </tr>\n",
       "    <tr>\n",
       "      <th>134</th>\n",
       "      <td>Proseminar in ECOLOGIES: Interrelated, In-betw...</td>\n",
       "      <td>https://www.gsd.harvard.edu/course/proseminar-...</td>\n",
       "      <td>[Alex Wall]</td>\n",
       "    </tr>\n",
       "    <tr>\n",
       "      <th>135</th>\n",
       "      <td>Master in Real Estate Practicum Prep</td>\n",
       "      <td>https://www.gsd.harvard.edu/course/master-in-r...</td>\n",
       "      <td>[Frank Apeseche, Matthew Kiefer, Weijia Song]</td>\n",
       "    </tr>\n",
       "  </tbody>\n",
       "</table>\n",
       "<p>136 rows × 3 columns</p>\n",
       "</div>"
      ],
      "text/plain": [
       "                                           course_name  \\\n",
       "0            First Semester Architecture Core: PROJECT   \n",
       "1    Landscape Architecture I: First Semester Core ...   \n",
       "2            First Semester Core Urban Planning Studio   \n",
       "3          Third Semester Architecture Core: INTEGRATE   \n",
       "4    Landscape Architecture III: Third Semester Cor...   \n",
       "..                                                 ...   \n",
       "131  Proseminar in PUBLICS: Of the Public. In the P...   \n",
       "132  Proseminar in MEDIUMS: On Making Culture, Tech...   \n",
       "133  Proseminar in NARRATIVES: Word and Image as Na...   \n",
       "134  Proseminar in ECOLOGIES: Interrelated, In-betw...   \n",
       "135               Master in Real Estate Practicum Prep   \n",
       "\n",
       "                                                  link  \\\n",
       "0    https://www.gsd.harvard.edu/course/first-semes...   \n",
       "1    https://www.gsd.harvard.edu/course/landscape-a...   \n",
       "2    https://www.gsd.harvard.edu/course/first-semes...   \n",
       "3    https://www.gsd.harvard.edu/course/third-semes...   \n",
       "4    https://www.gsd.harvard.edu/course/landscape-a...   \n",
       "..                                                 ...   \n",
       "131  https://www.gsd.harvard.edu/course/proseminar-...   \n",
       "132  https://www.gsd.harvard.edu/course/proseminar-...   \n",
       "133  https://www.gsd.harvard.edu/course/proseminar-...   \n",
       "134  https://www.gsd.harvard.edu/course/proseminar-...   \n",
       "135  https://www.gsd.harvard.edu/course/master-in-r...   \n",
       "\n",
       "                                               faculty  \n",
       "0    [Sean Canty, Carl D’Apolito-Dworkin, Evan Farl...  \n",
       "1    [Gary R.  Hilderbrand, Pablo Pérez-Ramos, Kira...  \n",
       "2    [Magda Maaoui, Anne-Marie Lubenau, Claire V. R...  \n",
       "3    [Eric Höweler, Michelle Chang, Adam Frampton, ...  \n",
       "4    [Danielle Choi, Adam Anderson, Karen Lee Bar-S...  \n",
       "..                                                 ...  \n",
       "131                                      [Diane Davis]  \n",
       "132                                     [Allen Sayegh]  \n",
       "133                                     [Edward Eigen]  \n",
       "134                                        [Alex Wall]  \n",
       "135      [Frank Apeseche, Matthew Kiefer, Weijia Song]  \n",
       "\n",
       "[136 rows x 3 columns]"
      ]
     },
     "execution_count": 10,
     "metadata": {},
     "output_type": "execute_result"
    }
   ],
   "source": [
    "# Create our tabular data\n",
    "df = pd.DataFrame(courses)\n",
    "df"
   ]
  },
  {
   "cell_type": "code",
   "execution_count": null,
   "metadata": {
    "id": "wrtW4qcEn_kN"
   },
   "outputs": [],
   "source": []
  }
 ],
 "metadata": {
  "colab": {
   "authorship_tag": "ABX9TyNX/wsJXt8PXqxLXYlCZNQL",
   "include_colab_link": true,
   "provenance": []
  },
  "kernelspec": {
   "display_name": "Python 3",
   "name": "python3"
  },
  "language_info": {
   "codemirror_mode": {
    "name": "ipython",
    "version": 3
   },
   "file_extension": ".py",
   "mimetype": "text/x-python",
   "name": "python",
   "nbconvert_exporter": "python",
   "pygments_lexer": "ipython3",
   "version": "3.10.13"
  }
 },
 "nbformat": 4,
 "nbformat_minor": 0
}
